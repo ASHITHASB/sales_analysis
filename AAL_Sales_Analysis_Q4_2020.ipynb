{
 "cells": [
  {
   "cell_type": "markdown",
   "id": "dfff88f3",
   "metadata": {},
   "source": [
    "#  AAL Sales Analysis (Q4 2020)\n",
    "\n",
    "This notebook analyzes AAL's Q4 2020 sales data by state and demographic group to assist in strategic planning for expansion."
   ]
  },
  {
   "cell_type": "code",
   "execution_count": null,
   "id": "ad194266",
   "metadata": {},
   "outputs": [],
   "source": [
    "\n",
    "import pandas as pd\n",
    "import numpy as np\n",
    "import seaborn as sns\n",
    "import matplotlib.pyplot as plt\n",
    "import warnings\n",
    "warnings.filterwarnings('ignore')\n",
    "from scipy import stats\n",
    "from sklearn.preprocessing import MinMaxScaler\n"
   ]
  },
  {
   "cell_type": "code",
   "execution_count": null,
   "id": "80959794",
   "metadata": {},
   "outputs": [],
   "source": [
    "\n",
    "# Load dataset\n",
    "data = pd.read_csv('AusApparalSales4thQrt2020.csv')\n",
    "data.head()\n"
   ]
  },
  {
   "cell_type": "markdown",
   "id": "a382d1c7",
   "metadata": {},
   "source": [
    "##  Data Wrangling\n",
    "Check for missing values and normalize relevant numeric columns."
   ]
  },
  {
   "cell_type": "code",
   "execution_count": null,
   "id": "a356025e",
   "metadata": {},
   "outputs": [],
   "source": [
    "\n",
    "# Check missing values\n",
    "data.isna().sum()\n"
   ]
  },
  {
   "cell_type": "code",
   "execution_count": null,
   "id": "79ed260e",
   "metadata": {},
   "outputs": [],
   "source": [
    "\n",
    "# Normalize numerical features\n",
    "scaler = MinMaxScaler()\n",
    "if 'Sales' in data.columns and 'Units' in data.columns:\n",
    "    data[['Sales', 'Units']] = scaler.fit_transform(data[['Sales', 'Units']])\n",
    "data.head()\n"
   ]
  },
  {
   "cell_type": "markdown",
   "id": "a6d303f6",
   "metadata": {},
   "source": [
    "GroupBy is effective for aggregating data, e.g., `data.groupby('State')['Sales'].sum()` gives total sales by state."
   ]
  },
  {
   "cell_type": "markdown",
   "id": "5a3ecdf0",
   "metadata": {},
   "source": [
    "##  Data Analysis\n",
    "Descriptive statistics and identifying top/bottom performers."
   ]
  },
  {
   "cell_type": "code",
   "execution_count": null,
   "id": "bbc2cc90",
   "metadata": {},
   "outputs": [],
   "source": [
    "\n",
    "# Descriptive statistics\n",
    "data[['Sales', 'Units']].describe()\n"
   ]
  },
  {
   "cell_type": "code",
   "execution_count": null,
   "id": "4be3977e",
   "metadata": {},
   "outputs": [],
   "source": [
    "\n",
    "# Highest and lowest sales by state\n",
    "state_sales = data.groupby('State')['Sales'].sum().sort_values(ascending=False)\n",
    "state_sales\n"
   ]
  },
  {
   "cell_type": "code",
   "execution_count": null,
   "id": "6ad10605",
   "metadata": {},
   "outputs": [],
   "source": [
    "\n",
    "# Convert to datetime and extract time features\n",
    "data['Date'] = pd.to_datetime(data['Date'], errors='coerce')\n",
    "data['Week'] = data['Date'].dt.isocalendar().week\n",
    "data['Month'] = data['Date'].dt.month\n",
    "data['Quarter'] = data['Date'].dt.quarter\n"
   ]
  },
  {
   "cell_type": "code",
   "execution_count": null,
   "id": "a5ebc1d5",
   "metadata": {},
   "outputs": [],
   "source": [
    "\n",
    "# Generate reports\n",
    "weekly_report = data.groupby('Week')[['Sales', 'Units']].sum()\n",
    "monthly_report = data.groupby('Month')[['Sales', 'Units']].sum()\n",
    "quarterly_report = data.groupby('Quarter')[['Sales', 'Units']].sum()\n",
    "weekly_report, monthly_report, quarterly_report\n"
   ]
  },
  {
   "cell_type": "markdown",
   "id": "b64494b9",
   "metadata": {},
   "source": [
    "## Visualization Dashboard"
   ]
  },
  {
   "cell_type": "code",
   "execution_count": null,
   "id": "3f7b2ab7",
   "metadata": {},
   "outputs": [],
   "source": [
    "\n",
    "# State-wise sales by demographic\n",
    "plt.figure(figsize=(12,6))\n",
    "sns.barplot(x='State', y='Sales', hue='Demographic_Group', data=data)\n",
    "plt.title('State-wise Sales by Demographic Group')\n",
    "plt.xticks(rotation=45)\n",
    "plt.tight_layout()\n",
    "plt.show()\n"
   ]
  },
  {
   "cell_type": "code",
   "execution_count": null,
   "id": "efe4497a",
   "metadata": {},
   "outputs": [],
   "source": [
    "\n",
    "# Group-wise total sales\n",
    "group_sales = data.groupby('Demographic_Group')['Sales'].sum().reset_index()\n",
    "sns.barplot(data=group_sales, x='Demographic_Group', y='Sales')\n",
    "plt.title('Total Sales by Demographic Group')\n",
    "plt.show()\n"
   ]
  },
  {
   "cell_type": "code",
   "execution_count": null,
   "id": "1afcfe07",
   "metadata": {},
   "outputs": [],
   "source": [
    "\n",
    "# Sales by hour (if time available)\n",
    "if 'Hour' not in data.columns:\n",
    "    data['Hour'] = data['Date'].dt.hour\n",
    "sns.histplot(data['Hour'], bins=24, kde=True)\n",
    "plt.title('Sales Distribution by Hour')\n",
    "plt.xlabel('Hour of Day')\n",
    "plt.ylabel('Sales Frequency')\n",
    "plt.show()\n"
   ]
  },
  {
   "cell_type": "code",
   "execution_count": null,
   "id": "f8d400ff",
   "metadata": {},
   "outputs": [],
   "source": [
    "\n",
    "# Box plot for sales distribution\n",
    "sns.boxplot(x='Demographic_Group', y='Sales', data=data)\n",
    "plt.title('Sales Distribution by Demographic Group')\n",
    "plt.show()\n"
   ]
  },
  {
   "cell_type": "markdown",
   "id": "04cae1cd",
   "metadata": {},
   "source": [
    "##  Final Insights\n",
    "- States with top and bottom sales identified.\n",
    "- Demographic group performance visualized.\n",
    "- Time-of-day analysis highlights peak hours.\n",
    "\n",
    "###  Recommendations:\n",
    "- Focus marketing on underperforming states.\n",
    "- Launch personalized campaigns during peak hours.\n",
    "- Use Seaborn for advanced statistical visualizations."
   ]
  }
 ],
 "metadata": {},
 "nbformat": 4,
 "nbformat_minor": 5
}
